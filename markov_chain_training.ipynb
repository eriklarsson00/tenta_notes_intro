{
 "cells": [
  {
   "cell_type": "code",
   "execution_count": null,
   "metadata": {},
   "outputs": [],
   "source": [
    "#TransitionMatrix  think identity as the state so 00 is first state to first state "
   ]
  },
  {
   "cell_type": "code",
   "execution_count": 1,
   "metadata": {},
   "outputs": [],
   "source": [
    "#calculate transition_Matrix \n",
    "# Example transition matrix\n",
    "import numpy as np\n",
    "from scipy.linalg import eig\n"
   ]
  },
  {
   "cell_type": "code",
   "execution_count": 11,
   "metadata": {},
   "outputs": [
    {
     "name": "stdout",
     "output_type": "stream",
     "text": [
      "Is the Markov chain irreducible? Yes\n",
      "Is the Markov chain aperiodic? Yes\n"
     ]
    }
   ],
   "source": [
    "import numpy as np\n",
    "import networkx as nx\n",
    "import math\n",
    "from numpy.linalg import matrix_power\n",
    "#P   = np.array([[0.8,0.2,0,0],\n",
    "#                          [0.6,0.2,0.2,0],\n",
    "#                          [0,0.4,0,0.6],\n",
    "#                          [0,0,0.8,0.2]])\n",
    "\n",
    "#P    = np.array([[0.2,0,0,0.8],\n",
    "#                         [0,0,1,0],\n",
    "#                         [0,1,0,0],\n",
    "#                         [0.5,0,0.5,0]])\n",
    "                          \n",
    "#P   = np.array([[0.2,0.3,0,0,0.5],\n",
    "##                         [0.2,0.2,0.6,0,0],\n",
    " #                        [0,0.4,0,0.6,0],\n",
    " #                        [0,0,0,0.6,0.4],\n",
    " #                        [0,0,0,0.4,0.6]])\n",
    "\n",
    "P   = np.array([[0.8,0.2,0,0],\n",
    "                         [0.6,0.2,0.2,0],\n",
    "                         [0,0.4,0,0.6],\n",
    "                         [0.1,0,0.7,0.2]])\n",
    "\n",
    "\n",
    "# Check for irreducibility\n",
    "def is_irreducible(P):\n",
    "    # Treat the transition matrix as a directed graph\n",
    "    G = nx.DiGraph(P)\n",
    "    return nx.is_strongly_connected(G)\n",
    "\n",
    "# Check for aperiodicity\n",
    "def gcd(a, b):\n",
    "    while b:\n",
    "        a, b = b, a % b\n",
    "    return a\n",
    "\n",
    "def is_aperiodic(P):\n",
    "    n = P.shape[0]\n",
    "    period = np.zeros(n, dtype=int)\n",
    "    \n",
    "    for i in range(n):\n",
    "        lengths = set()\n",
    "        for power in range(1, 100):  # Arbitrarily large number for power iteration\n",
    "            if matrix_power(P, power)[i, i] > 0:  # Look for paths that return to state i\n",
    "                lengths.add(power)\n",
    "        \n",
    "        if len(lengths) == 0:\n",
    "            return False  # No paths return to the state\n",
    "        \n",
    "        period[i] = min(lengths)\n",
    "    \n",
    "    # Compute the GCD of all path lengths\n",
    "    common_gcd = period[0]\n",
    "    for p in period[1:]:\n",
    "        common_gcd = gcd(common_gcd, p)\n",
    "        if common_gcd == 1:\n",
    "            return True  # If GCD is 1, the chain is aperiodic\n",
    "    \n",
    "    return False  # If GCD is greater than 1, the chain is periodic\n",
    "\n",
    "# Test the transition matrix for irreducibility and aperiodicity\n",
    "irreducible = is_irreducible(P)\n",
    "aperiodic = is_aperiodic(P)\n",
    "\n",
    "print(f\"Is the Markov chain irreducible? {'Yes' if irreducible else 'No'}\")\n",
    "print(f\"Is the Markov chain aperiodic? {'Yes' if aperiodic else 'No'}\")\n"
   ]
  },
  {
   "cell_type": "code",
   "execution_count": 12,
   "metadata": {},
   "outputs": [
    {
     "name": "stdout",
     "output_type": "stream",
     "text": [
      "Stationary distribution:  [[0.64516129]\n",
      " [0.20430108]\n",
      " [0.08602151]\n",
      " [0.06451613]]\n"
     ]
    }
   ],
   "source": [
    "#calculate stationary distribution\n",
    "# Example transition matrix\n",
    "\n",
    "# Check for irreducibility: See if all states can be reached (manually inspect P)\n",
    "\n",
    "\n",
    "# Find stationary distribution\n",
    "eigenvalues, eigenvectors = eig(P.T)\n",
    "stationary_vector = np.real(eigenvectors[:, np.isclose(eigenvalues, 1)])\n",
    "\n",
    "# Normalize the stationary vector to make it a probability distribution\n",
    "stationary_vector /= np.sum(stationary_vector)\n",
    "\n",
    "print(\"Stationary distribution: \", stationary_vector)"
   ]
  },
  {
   "cell_type": "code",
   "execution_count": 13,
   "metadata": {},
   "outputs": [
    {
     "name": "stdout",
     "output_type": "stream",
     "text": [
      "Is reversible between states 0 and 1:  [False]\n"
     ]
    }
   ],
   "source": [
    "#reversible = it satissfies detailed balance equation\n",
    "#pi_i*pij = pi_j * P_ji\n",
    "#where pi is the stationary distribution\n",
    "\n",
    "i, j = 1, 2\n",
    "is_reversible = np.isclose(stationary_vector[i] * P[i, j], stationary_vector[j] * P[j, i])\n",
    "print(\"Is reversible between states 0 and 1: \", is_reversible)"
   ]
  }
 ],
 "metadata": {
  "kernelspec": {
   "display_name": "Python 3",
   "language": "python",
   "name": "python3"
  },
  "language_info": {
   "codemirror_mode": {
    "name": "ipython",
    "version": 3
   },
   "file_extension": ".py",
   "mimetype": "text/x-python",
   "name": "python",
   "nbconvert_exporter": "python",
   "pygments_lexer": "ipython3",
   "version": "3.11.6"
  }
 },
 "nbformat": 4,
 "nbformat_minor": 2
}
