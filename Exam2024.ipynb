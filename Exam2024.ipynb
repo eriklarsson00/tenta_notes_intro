{
 "cells": [
  {
   "cell_type": "markdown",
   "metadata": {
    "deletable": false
   },
   "source": [
    "# Exam 4th of January 2024, 8.00-13.00 for the course 1MS041 (Introduction to Data Science / Introduktion till dataanalys)\n",
    "\n",
    "## Instructions:\n",
    "1. Complete the problems by following instructions.\n",
    "2. When done, submit this file with your solutions saved, following the instruction sheet.\n",
    "\n",
    "This exam has 3 problems for a total of 40 points, to pass you need\n",
    "20 points. The bonus will be added to the score of the exam and rounded afterwards.\n",
    "\n",
    "## Some general hints and information:\n",
    "* Try to answer all questions even if you are uncertain.\n",
    "* Comment your code, so that if you get the wrong answer I can understand how you thought\n",
    "this can give you some points even though the code does not run.\n",
    "* Follow the instruction sheet rigorously.\n",
    "* This exam is partially autograded, but your code and your free text answers are manually graded anonymously.\n",
    "* If there are any questions, please ask the exam guards, they will escalate it to me if necessary.\n",
    "\n",
    "## Tips for free text answers\n",
    "* Be VERY clear with your reasoning, there should be zero ambiguity in what you are referring to.\n",
    "* If you want to include math, you can write LaTeX in the Markdown cells, for instance `$f(x)=x^2$` will be rendered as $f(x)=x^2$ and `$$f(x) = x^2$$` will become an equation line, as follows\n",
    "$$f(x) = x^2$$\n",
    "Another example is `$$f_{Y \\mid X}(y,x) = P(Y = y \\mid X = x) = \\exp(\\alpha \\cdot x + \\beta)$$` which renders as\n",
    "$$f_{Y \\mid X}(y,x) = P(Y = y \\mid X = x) = \\exp(\\alpha \\cdot x + \\beta)$$\n",
    "\n",
    "## Finally some rules:\n",
    "* You may not communicate with others during the exam, for example:\n",
    "    * You cannot ask for help in Stack-Overflow or other such help forums during the Exam.\n",
    "    * You may not communicate with AI's, for instance ChatGPT.\n",
    "    * Your on-line and off-line activity is being monitored according to the examination rules.\n",
    "\n",
    "## Good luck!"
   ]
  },
  {
   "cell_type": "code",
   "execution_count": null,
   "metadata": {
    "deletable": false
   },
   "outputs": [],
   "source": [
    "# Insert your anonymous exam ID as a string in the variable below\n",
    "examID=\"0014-TKY\"\n"
   ]
  },
  {
   "cell_type": "markdown",
   "metadata": {
    "deletable": false,
    "lx_assignment_number": "vB",
    "lx_assignment_type": "EXAM",
    "lx_assignment_type2print": "Exam",
    "lx_problem_cell_type": "PROBLEM",
    "lx_problem_number": "1",
    "lx_problem_points": "14"
   },
   "source": [
    "---\n",
    "## Exam vB, PROBLEM 1\n",
    "Maximum Points = 14"
   ]
  },
  {
   "cell_type": "markdown",
   "metadata": {
    "deletable": false,
    "lx_assignment_number": "vB",
    "lx_assignment_type": "EXAM",
    "lx_assignment_type2print": "Exam",
    "lx_problem_cell_type": "PROBLEM",
    "lx_problem_number": "1",
    "lx_problem_points": "14"
   },
   "source": [
    "\n",
    "In this problem you will do rejection sampling from complicated distributions, you will also be using your samples to compute certain integrals, a method known as Monte Carlo integration: (Keep in mind that choosing a good sampling distribution is often key to avoid too much rejection)\n",
    "\n",
    "1. [4p] Fill in the remaining part of the function `problem1_inversion` in order to produce samples from the below distribution using rejection sampling:\n",
    "\n",
    "$$\n",
    "    F[x] = \n",
    "    \\begin{cases}\n",
    "        0, & x \\leq 0 \\\\\n",
    "        \\frac{e^{x^2}-1}{e-1}, & 0 < x < 1 \\\\\n",
    "        1, & x \\geq 1\n",
    "    \\end{cases}\n",
    "$$\n",
    "\n",
    "2. [2p] Produce 100000 samples (**use fewer if it times-out and you cannot find a solution**) and put the answer in `problem1_samples` from the above distribution and plot the histogram together with the true density. *(There is a timeout decorator on this function and if it takes more than 10 seconds to generate 100000 samples it will timeout and it will count as if you failed to generate.)*\n",
    "3. [2p] Use the above 100000 samples (`problem1_samples`) to approximately compute the integral\n",
    "\n",
    "$$\n",
    "    \\int_0^{1} \\sin(x) \\frac{2e^{x^2} x}{e-1} dx\n",
    "$$\n",
    "and store the result in `problem1_integral`.\n",
    "\n",
    "4. [2p] Use Hoeffdings inequality to produce a 95\\% confidence interval of the integral above and store the result as a tuple in the variable `problem1_interval`\n",
    "\n",
    "5. [4p] Fill in the remaining part of the function `problem1_inversion_2` in order to produce samples from the below distribution using rejection sampling:\n",
    "$$\n",
    "    F[x] = \n",
    "    \\begin{cases}\n",
    "        0, & x \\leq 0 \\\\\n",
    "        20xe^{20-1/x}, & 0 < x < \\frac{1}{20} \\\\\n",
    "        1, & x \\geq \\frac{1}{20}\n",
    "    \\end{cases}\n",
    "$$\n",
    "Hint: this is tricky because if you choose the wrong sampling distribution you reject at least 9 times out of 10. You will get points based on how long your code takes to create a certain number of samples, if you choose the correct sampling distribution you can easily create 100000 samples within 2 seconds."
   ]
  },
  {
   "cell_type": "code",
   "execution_count": 2,
   "metadata": {
    "deletable": false,
    "lx_assignment_number": "vB",
    "lx_assignment_type": "EXAM",
    "lx_assignment_type2print": "Exam",
    "lx_problem_cell_type": "PROBLEM",
    "lx_problem_number": "1",
    "lx_problem_points": "14"
   },
   "outputs": [],
   "source": [
    "\n",
    "# Part 1\n",
    "\n",
    "#from Utils import timeout\n",
    "import numpy as np \n",
    "\n",
    "#@timeout\n",
    "def problem1_inversion(n_samples=1):\n",
    "    # Distribution from part 1\n",
    "    # write the code in this function to produce samples from the distribution in the assignment\n",
    "    # Make sure you choose a good sampling distribution to avoid unnecessary rejections\n",
    "    #x = np.random.exponential(size=n_samples)\n",
    "    x = np.random.uniform(low=0.0, high=1.0, size=n_samples)\n",
    "     #Return a numpy array of length n_samples\n",
    "    sample_array = np.empty(0)\n",
    "    def target_distribution(x):\n",
    "        if x <= 0:\n",
    "            return 0\n",
    "        elif 0 < x < 1:\n",
    "            return (np.exp(x**2) - 1) / (np.exp(1) - 1)\n",
    "        else:\n",
    "            return 1\n",
    "\n",
    "\n",
    "    for i in range(len(x)):\n",
    "        u = np.random.uniform(0, 1)\n",
    "\n",
    "        if u <= target_distribution(x[i]):\n",
    "            sample_array = np.append(sample_array, x[i])\n",
    "    return sample_array\n"
   ]
  },
  {
   "cell_type": "code",
   "execution_count": 9,
   "metadata": {
    "deletable": false,
    "lx_assignment_number": "vB",
    "lx_assignment_type": "EXAM",
    "lx_assignment_type2print": "Exam",
    "lx_problem_cell_type": "PROBLEM",
    "lx_problem_number": "1",
    "lx_problem_points": "14",
    "scrolled": true
   },
   "outputs": [
    {
     "data": {
      "image/png": "[encoded data removed]",
      "text/plain": [
       "<Figure size 500x500 with 1 Axes>"
      ]
     },
     "metadata": {},
     "output_type": "display_data"
    }
   ],
   "source": [
    "# Part 2\n",
    "import matplotlib.pyplot as plt\n",
    "from Utils import discrete_histogram\n",
    "problem1_samples = problem1_inversion(n_samples=100000)\n",
    "#Derive to get the pdf since we dont want the cdf\n",
    "def true_density(x):\n",
    "    if x <= 0:\n",
    "        return 0\n",
    "    elif 0 < x < 1:\n",
    "        return (2 * x * np.exp(x**2)) / (np.exp(1) - 1)\n",
    "    else:\n",
    "        return 1\n",
    "    \n",
    "X_values = np.linspace(0, 1, 1000)\n",
    "y_values = [true_density(x) for x in X_values]\n",
    "\n",
    "plt.figure(figsize=(5,5))\n",
    "plt.hist(problem1_samples, bins=50, density=True)\n",
    "plt.plot(X_values, y_values, color='r', label='True Density')\n",
    "\n",
    "plt.show()\n",
    "\n",
    "\n"
   ]
  },
  {
   "cell_type": "code",
   "execution_count": 13,
   "metadata": {
    "deletable": false,
    "lx_assignment_number": "vB",
    "lx_assignment_type": "EXAM",
    "lx_assignment_type2print": "Exam",
    "lx_problem_cell_type": "PROBLEM",
    "lx_problem_number": "1",
    "lx_problem_points": "14"
   },
   "outputs": [
    {
     "name": "stdout",
     "output_type": "stream",
     "text": [
      "0.6907994637420726\n"
     ]
    }
   ],
   "source": [
    "# Part 3\n",
    "import scipy.integrate as integrate\n",
    "#result = integrate.quad(lambda x: np.sin(problem1_samples)*((2*np.exp(x**2)*x)/(np.exp(1)-1), 0, 1))\n",
    "#Only need to use sin since we already have sampled f(x)\n",
    "g_x = np.sin(problem1_samples)\n",
    "problem1_integral = np.mean(g_x)\n",
    "print(problem1_integral)\n",
    "\n"
   ]
  },
  {
   "cell_type": "code",
   "execution_count": 18,
   "metadata": {
    "deletable": false,
    "lx_assignment_number": "vB",
    "lx_assignment_type": "EXAM",
    "lx_assignment_type2print": "Exam",
    "lx_problem_cell_type": "PROBLEM",
    "lx_problem_number": "1",
    "lx_problem_points": "14"
   },
   "outputs": [
    {
     "name": "stdout",
     "output_type": "stream",
     "text": [
      "[0.6833629692433981, 0.698235958240747]\n"
     ]
    }
   ],
   "source": [
    "# Part 4\n",
    "from Utils import compute_confidence_interval_bounded\n",
    "\n",
    "problem1_interval = compute_confidence_interval_bounded(g_x, 0.95, -1, 1)\n",
    "problem1_interval = [problem1_interval[0], problem1_interval[1]]\n",
    "print(problem1_interval)"
   ]
  },
  {
   "cell_type": "code",
   "execution_count": 22,
   "metadata": {
    "deletable": false,
    "lx_assignment_number": "vB",
    "lx_assignment_type": "EXAM",
    "lx_assignment_type2print": "Exam",
    "lx_problem_cell_type": "PROBLEM",
    "lx_problem_number": "1",
    "lx_problem_points": "14"
   },
   "outputs": [
    {
     "data": {
      "image/png": "[encoded data removed]",
      "text/plain": [
       "<Figure size 500x500 with 1 Axes>"
      ]
     },
     "metadata": {},
     "output_type": "display_data"
    }
   ],
   "source": [
    "# Part 5\n",
    "def true_density(x):\n",
    "    if x <= 0:\n",
    "        return 0\n",
    "    elif 0 < x < 1:\n",
    "        return 20 * np.exp(20 - (1/x)) * (1+(1/x))\n",
    "    else:\n",
    "        return 1\n",
    "    \n",
    "    \n",
    "X_values = np.linspace(0, 1, 1000)\n",
    "y_values = [true_density(x) for x in X_values]\n",
    "\n",
    "plt.figure(figsize=(5,5))\n",
    "plt.hist(problem1_samples, bins=50, density=True)\n",
    "plt.show()\n",
    "def problem1_inversion_2(n_samples=1):\n",
    "    # Distribution from part 2\n",
    "    # write the code in this function to produce samples from the distribution in the assignment\n",
    "    # Make sure you choose a good sampling distribution to avoid unnecessary rejections\n",
    "    x = np.random.uniform(low=0.0, high=1.0, size=n_samples)\n",
    "\n",
    "    def target_distribution(x):\n",
    "        if x <= 0:\n",
    "            return 0\n",
    "        elif 0 < x < 1:\n",
    "            return 20*x * np.exp(20 - (1/x))\n",
    "        else:\n",
    "            return 1\n",
    "    samples = np.empty(0)\n",
    "    x_proposal = np.random.uniform(0, 1/20, size=n_samples)\n",
    "    \n",
    "    for i in range(len(x)):\n",
    "        u = np.random.uniform(0, 1/20)\n",
    "\n",
    "        if u <= target_distribution(x_proposal[i]):\n",
    "            np.append(samples, x_proposal[i])\n",
    "    # Return a numpy array of length n_samples\n",
    "    return samples"
   ]
  },
  {
   "cell_type": "markdown",
   "metadata": {
    "deletable": false,
    "lx_assignment_number": "vB",
    "lx_assignment_type": "EXAM",
    "lx_assignment_type2print": "Exam",
    "lx_problem_cell_type": "Test",
    "lx_problem_number": "1",
    "lx_problem_points": "14"
   },
   "source": [
    "---\n",
    "#### Local Test for Exam vB, PROBLEM 1\n",
    "Evaluate cell below to make sure your answer is valid.                             You **should not** modify anything in the cell below when evaluating it to do a local test of                             your solution."
   ]
  },
  {
   "cell_type": "code",
   "execution_count": 20,
   "metadata": {
    "deletable": false,
    "lx_assignment_number": "vB",
    "lx_assignment_type": "EXAM",
    "lx_assignment_type2print": "Exam",
    "lx_problem_cell_type": "Test",
    "lx_problem_number": "1",
    "lx_problem_points": "14"
   },
   "outputs": [
    {
     "name": "stdout",
     "output_type": "stream",
     "text": [
      "Good, your problem1_inversion returns a numpy array\n",
      "Good, your problem1_samples is a numpy array\n",
      "Good, your problem1_integral is a float\n",
      "Good, your problem1_interval is a tuple or list of length 2\n",
      "Good, your problem1_inversion_2 returns a numpy array\n"
     ]
    }
   ],
   "source": [
    "\n",
    "# This cell is just to check that you got the correct formats of your answer\n",
    "import numpy as np\n",
    "try:\n",
    "    assert(isinstance(problem1_inversion(10), np.ndarray)) \n",
    "except:\n",
    "    print(\"Try again. You should return a numpy array from problem1_inversion\")\n",
    "else:\n",
    "    print(\"Good, your problem1_inversion returns a numpy array\")\n",
    "\n",
    "try:\n",
    "    assert(isinstance(problem1_samples, np.ndarray)) \n",
    "except:\n",
    "    print(\"Try again. your problem1_samples is not a numpy array\")\n",
    "else:\n",
    "    print(\"Good, your problem1_samples is a numpy array\")\n",
    "\n",
    "try:\n",
    "    assert(isinstance(problem1_integral, float)) \n",
    "except:\n",
    "    print(\"Try again. your problem1_integral is not a float\")\n",
    "else:\n",
    "    print(\"Good, your problem1_integral is a float\")\n",
    "\n",
    "try:\n",
    "    assert(isinstance(problem1_interval, list) or isinstance(problem1_interval, tuple)) , \"problem1_interval not a tuple or list\"\n",
    "    assert(len(problem1_interval) == 2) , \"problem1_interval does not have length 2, it should have a lower bound and an upper bound\"\n",
    "except Exception as e:\n",
    "    print(e)\n",
    "else:\n",
    "    print(\"Good, your problem1_interval is a tuple or list of length 2\")\n",
    "\n",
    "try:\n",
    "    assert(isinstance(problem1_inversion_2(10), np.ndarray)) \n",
    "except:\n",
    "    print(\"Try again. You should return a numpy array from problem1_inversion_2\")\n",
    "else:\n",
    "    print(\"Good, your problem1_inversion_2 returns a numpy array\")"
   ]
  },
  {
   "cell_type": "markdown",
   "metadata": {
    "deletable": false,
    "lx_assignment_number": "vB",
    "lx_assignment_type": "EXAM",
    "lx_assignment_type2print": "Exam",
    "lx_problem_cell_type": "PROBLEM",
    "lx_problem_number": "2",
    "lx_problem_points": "13"
   },
   "source": [
    "---\n",
    "## Exam vB, PROBLEM 2\n",
    "Maximum Points = 13"
   ]
  },
  {
   "cell_type": "markdown",
   "metadata": {
    "deletable": false,
    "lx_assignment_number": "vB",
    "lx_assignment_type": "EXAM",
    "lx_assignment_type2print": "Exam",
    "lx_problem_cell_type": "PROBLEM",
    "lx_problem_number": "2",
    "lx_problem_points": "13"
   },
   "source": [
    "\n",
    "Let us build a proportional model ($\\mathbb{P}(Y=1 \\mid X) = G(\\beta_0+\\beta \\cdot X)$ where $G$ is the logistic function) for the spam vs not spam data. Here we assume that the features are presence vs not presence of a word, let $X_1,X_2,X_3$ denote the presence (1) or absence (0) of the words $(\"free\", \"prize\", \"win\")$.\n",
    "\n",
    "1. [2p] Load the file `data/spam.csv` and create two numpy arrays, `problem2_X` which has shape (n_emails,3) where each feature in `problem2_X` corresponds to $X_1,X_2,X_3$ from above, `problem2_Y` which has shape **(n_emails,)** and consists of a $1$ if the email is spam and $0$ if it is not. Split this data into a train-calibration-test sets where we have the split $40\\%$, $20\\%$, $40\\%$, put this data in the designated variables in the code cell.\n",
    "\n",
    "2. [4p] Follow the calculation from the lecture notes where we derive the logistic regression and implement the final loss function inside the class `ProportionalSpam`. You can use the `Test` cell to check that it gives the correct value for a test-point.\n",
    "\n",
    "3. [4p] Train the model `problem2_ps` on the training data. The goal is to calibrate the probabilities output from the model. Start by creating a new variable `problem2_X_pred` (shape `(n_samples,1)`) which consists of the predictions of `problem2_ps` on the calibration dataset. Then train a calibration model using `sklearn.tree.DecisionTreeRegressor`, store this trained model in `problem2_calibrator`.\n",
    "\n",
    "4. [3p] Use the trained model `problem2_ps` and the calibrator `problem2_calibrator` to make final predictions on the testing data, store the prediction in `problem2_final_predictions`. Compute the $0-1$ test-loss and store it in `problem2_01_loss` and provide a $99\\%$ confidence interval of it, store this in the variable `problem2_interval`, this should again be a tuple as in **problem1**."
   ]
  },
  {
   "cell_type": "code",
   "execution_count": 45,
   "metadata": {
    "deletable": false,
    "lx_assignment_number": "vB",
    "lx_assignment_type": "EXAM",
    "lx_assignment_type2print": "Exam",
    "lx_problem_cell_type": "PROBLEM",
    "lx_problem_number": "2",
    "lx_problem_points": "13"
   },
   "outputs": [
    {
     "name": "stdout",
     "output_type": "stream",
     "text": [
      "(2228, 3) (2230, 3) (1114, 3) (2228,) (2230,) (1114,)\n"
     ]
    }
   ],
   "source": [
    "# Part 1\n",
    "import pandas as pd\n",
    "import csv\n",
    "from Utils import load_sms\n",
    "import numpy as np\n",
    "from Utils import train_test_validation\n",
    "#with open(\"data/spam.csv\") as f:\n",
    "#    rows = [row for row in csv.reader(f)]\n",
    "\n",
    "#print(rows)\n",
    "\n",
    "\n",
    "sms = load_sms()\n",
    "x1 = \"free\"\n",
    "x2 = \"prize\"\n",
    "x3 = \"win\"\n",
    "\n",
    "problem2_X = np.zeros([len(sms),3])\n",
    "problem2_y = np.zeros(len(sms))\n",
    "\n",
    "for i in range(len(sms)):\n",
    "    words =  sms[i][0].lower().split()\n",
    "    spam = sms[i][1]\n",
    "    if x1 in words:\n",
    "        problem2_X[i][0] = 1\n",
    "    if x2 in words:\n",
    "        problem2_X[i][1] = 1\n",
    "    if x3 in words:\n",
    "        problem2_X[i][2] = 1\n",
    "    if spam == 1:\n",
    "        problem2_y[i] = spam\n",
    "\n",
    "\n",
    "    \n",
    "         \n",
    "X_train, X_test, X_valid, Y_train, Y_test, Y_valid = train_test_validation(problem2_X, problem2_y, test_size=0.2, validation_size = 0.4) \n",
    "    \n",
    "    \n",
    "problem2_X_train = X_train\n",
    "problem2_X_calib = X_valid\n",
    "problem2_X_test = X_test\n",
    "\n",
    "problem2_Y_train = Y_train\n",
    "problem2_Y_calib = Y_valid\n",
    "problem2_Y_test = Y_test\n",
    "\n",
    "print(problem2_X_train.shape,problem2_X_calib.shape,problem2_X_test.shape,problem2_Y_train.shape,problem2_Y_calib.shape,problem2_Y_test.shape)\n"
   ]
  },
  {
   "cell_type": "code",
   "execution_count": 46,
   "metadata": {
    "deletable": false,
    "lx_assignment_number": "vB",
    "lx_assignment_type": "EXAM",
    "lx_assignment_type2print": "Exam",
    "lx_problem_cell_type": "PROBLEM",
    "lx_problem_number": "2",
    "lx_problem_points": "13"
   },
   "outputs": [],
   "source": [
    "# Part 2\n",
    "\n",
    "class ProportionalSpam(object):\n",
    "    def __init__(self):\n",
    "        self.coeffs = None\n",
    "        self.result = None\n",
    "    \n",
    "    # define the objective/cost/loss function we want to minimise\n",
    "    def loss(self,X,Y,coeffs):\n",
    "        \n",
    "        #Use the logistic loss\n",
    "        G = lambda x: np.exp(x)/(1+np.exp(x))\n",
    "\n",
    "        z = np.dot(X,coeffs[1:])+coeffs[0]\n",
    "\n",
    "        p_x = G(z)\n",
    "        epsilon = 1e-10\n",
    "\n",
    "        loss = -np.sum(Y*np.log(p_x+epsilon)+(1-Y)*np.log(1-p_x+epsilon))\n",
    "\n",
    "        return loss\n",
    "\n",
    "    def fit(self,X,Y):\n",
    "        import numpy as np\n",
    "        from scipy import optimize\n",
    "\n",
    "        #Use the f above together with an optimization method from scipy\n",
    "        #to find the coefficients of the model\n",
    "        opt_loss = lambda coeffs: self.loss(X,Y,coeffs)\n",
    "        initial_arguments = np.zeros(shape=X.shape[1]+1)\n",
    "        self.result = optimize.minimize(opt_loss, initial_arguments,method='cg')\n",
    "        self.coeffs = self.result.x\n",
    "    \n",
    "    def predict(self,X):\n",
    "        #Use the trained model to predict Y\n",
    "        if (self.coeffs is not None):\n",
    "            G = lambda x: np.exp(x)/(1+np.exp(x))\n",
    "            return np.round(10*G(np.dot(X,self.coeffs[1:])+self.coeffs[0]))/10 # This rounding is to help you with the calibration\n"
   ]
  },
  {
   "cell_type": "code",
   "execution_count": 55,
   "metadata": {
    "deletable": false,
    "lx_assignment_number": "vB",
    "lx_assignment_type": "EXAM",
    "lx_assignment_type2print": "Exam",
    "lx_problem_cell_type": "PROBLEM",
    "lx_problem_number": "2",
    "lx_problem_points": "13"
   },
   "outputs": [],
   "source": [
    "# Part 3\n",
    "from sklearn.tree import DecisionTreeRegressor\n",
    "problem2_ps = ProportionalSpam()\n",
    "\n",
    "problem2_ps.fit(problem2_X_train,problem2_Y_train)\n",
    "\n",
    "problem2_X_pred = problem2_ps.predict(problem2_X_calib)\n",
    "\n",
    "problem2_X_pred = problem2_X_pred.reshape(-1,1)\n",
    "\n",
    "\n",
    "\n",
    "\n",
    "\n",
    "problem2_dt = DecisionTreeRegressor()\n",
    "problem2_dt.fit(problem2_X_pred,problem2_Y_calib)\n",
    "\n",
    "\n",
    "problem2_calibrator = problem2_dt\n",
    "\n"
   ]
  },
  {
   "cell_type": "code",
   "execution_count": 64,
   "metadata": {
    "deletable": false,
    "lx_assignment_number": "vB",
    "lx_assignment_type": "EXAM",
    "lx_assignment_type2print": "Exam",
    "lx_problem_cell_type": "PROBLEM",
    "lx_problem_number": "2",
    "lx_problem_points": "13"
   },
   "outputs": [
    {
     "name": "stdout",
     "output_type": "stream",
     "text": [
      "(0.05985223914177912, 0.1573829493680951)\n"
     ]
    }
   ],
   "source": [
    "# Part 4\n",
    "from sklearn.metrics import accuracy_score\n",
    "from Utils import compute_confidence_interval_bounded\n",
    "# These are the predicted probabilities\n",
    "test_probs = problem2_ps.predict(problem2_X_test)\n",
    "test_probs_calibrated = problem2_calibrator.predict(test_probs.reshape(-1,1))\n",
    "test_probs_calibrated = np.array(test_probs_calibrated).flatten()\n",
    "problem2_final_predictions = (test_probs_calibrated >= 0.5).astype(int)\n",
    "\n",
    "\n",
    "\n",
    "\n",
    "# In order to compute this loss we first need to convert the predicted probabilities to a decision\n",
    "# recall the Bayes classifier?\n",
    "problem2_01_loss = 1 - accuracy_score(problem2_Y_test, problem2_final_predictions)\n",
    "n_test_samples = len(problem2_Y_test)\n",
    "#epsilon = np.sqrt(np.log(2 / 0.01) / (2 * n_test_samples))\n",
    "alpha = 0.01\n",
    "b = 1\n",
    "epsilon = b*np.sqrt(-1/(2*n)*np.log((alpha)/2))  # Hoeffding's inequality for 99% confidence interval\n",
    "lower_bound = max(0, problem2_01_loss - epsilon)\n",
    "upper_bound = min(1, problem2_01_loss + epsilon)\n",
    "problem2_interval = (lower_bound, upper_bound)\n",
    "print(problem2_interval)\n",
    "\n",
    "# Recall the interval is given as a tuple (a,b) or a list [a,b]\n"
   ]
  },
  {
   "cell_type": "markdown",
   "metadata": {
    "deletable": false,
    "lx_assignment_number": "vB",
    "lx_assignment_type": "EXAM",
    "lx_assignment_type2print": "Exam",
    "lx_problem_cell_type": "Test",
    "lx_problem_number": "2",
    "lx_problem_points": "13"
   },
   "source": [
    "---\n",
    "#### Local Test for Exam vB, PROBLEM 2\n",
    "Evaluate cell below to make sure your answer is valid.                             You **should not** modify anything in the cell below when evaluating it to do a local test of                             your solution."
   ]
  },
  {
   "cell_type": "code",
   "execution_count": null,
   "metadata": {
    "deletable": false,
    "lx_assignment_number": "vB",
    "lx_assignment_type": "EXAM",
    "lx_assignment_type2print": "Exam",
    "lx_problem_cell_type": "Test",
    "lx_problem_number": "2",
    "lx_problem_points": "13"
   },
   "outputs": [],
   "source": [
    "try:\n",
    "    import numpy as np\n",
    "    test_instance = ProportionalSpam()\n",
    "    test_loss = test_instance.loss(np.array([[1,0,1],[0,1,1]]),np.array([1,0]),np.array([1.2,0.4,0.3,0.9]))\n",
    "    assert (np.abs(test_loss-1.2828629432232497) < 1e-6)\n",
    "    print(\"Your loss was correct for a test point\")\n",
    "except:\n",
    "    print(\"Your loss was not correct on a test point\")"
   ]
  },
  {
   "cell_type": "markdown",
   "metadata": {
    "deletable": false,
    "lx_assignment_number": "vB",
    "lx_assignment_type": "EXAM",
    "lx_assignment_type2print": "Exam",
    "lx_problem_cell_type": "PROBLEM",
    "lx_problem_number": "3",
    "lx_problem_points": "13"
   },
   "source": [
    "---\n",
    "## Exam vB, PROBLEM 3\n",
    "Maximum Points = 13"
   ]
  },
  {
   "cell_type": "markdown",
   "metadata": {
    "deletable": false,
    "lx_assignment_number": "vB",
    "lx_assignment_type": "EXAM",
    "lx_assignment_type2print": "Exam",
    "lx_problem_cell_type": "PROBLEM",
    "lx_problem_number": "3",
    "lx_problem_points": "13"
   },
   "source": [
    "\n",
    "Consider the following four Markov chains, answer each question for all chains:\n",
    "\n",
    "<img width=\"400px\" src=\"pictures/MarkovA.png\">Markov chain A</img>\n",
    "<img width=\"400px\" src=\"pictures/MarkovB.png\">Markov chain B</img>\n",
    "<img width=\"400px\" src=\"pictures/MarkovC.png\">Markov chain C</img>\n",
    "<img width=\"400px\" src=\"pictures/MarkovD.png\">Markov chain D</img>\n",
    "\n",
    "1. [2p] What is the transition matrix?\n",
    "2. [2p] Is the Markov chain irreducible?\n",
    "3. [3p] Is the Markov chain aperiodic? What is the period for each state?\n",
    "4. [3p] Does the Markov chain have a stationary distribution, and if so, what is it?\n",
    "5. [3p] Is the Markov chain reversible?"
   ]
  },
  {
   "cell_type": "code",
   "execution_count": 16,
   "metadata": {
    "deletable": false,
    "lx_assignment_number": "vB",
    "lx_assignment_type": "EXAM",
    "lx_assignment_type2print": "Exam",
    "lx_problem_cell_type": "PROBLEM",
    "lx_problem_number": "3",
    "lx_problem_points": "13"
   },
   "outputs": [
    {
     "name": "stdout",
     "output_type": "stream",
     "text": [
      "(4, 4)\n",
      "(4, 4)\n",
      "(5, 5)\n",
      "(4, 4)\n"
     ]
    }
   ],
   "source": [
    "# PART 1\n",
    "import numpy as np\n",
    "#------------------------TRANSITION MATRIX -------------------------------\n",
    "# Answer each one by supplying the transition matrix as a numpy array\n",
    "# of shape (n_states,n_states), where state (A,B,...) corresponds to index (0,1,...)\n",
    "\n",
    "problem3_A    = np.array([[0.8,0.2,0,0],\n",
    "                          [0.6,0.2,0.2,0],\n",
    "                          [0,0.4,0,0.6],\n",
    "                          [0,0,0.8,0.2]])\n",
    "print(problem3_A.shape)\n",
    "problem3_B    = np.array([[0.2,0,0,0.8],\n",
    "                         [0,0,1,0],\n",
    "                         [0,1,0,0],\n",
    "                         [0.5,0,0.5,0]])\n",
    "print(problem3_B.shape)\n",
    "                          \n",
    "problem3_C    = np.array([[0.2,0.3,0,0,0.5],\n",
    "                         [0.2,0.2,0.6,0,0],\n",
    "                         [0,0.4,0,0.6,0],\n",
    "                         [0,0,0,0.6,0.4],\n",
    "                         [0,0,0,0.4,0.6]])\n",
    "print(problem3_C.shape)\n",
    "problem3_D    = np.array([[0.8,0.2,0,0],\n",
    "                         [0.6,0.2,0.2,0],\n",
    "                         [0,0.4,0,0.6],\n",
    "                         [0.1,0,0.7,0.2]])\n",
    "\n",
    "print(problem3_D.shape)"
   ]
  },
  {
   "cell_type": "code",
   "execution_count": 66,
   "metadata": {
    "deletable": false,
    "lx_assignment_number": "vB",
    "lx_assignment_type": "EXAM",
    "lx_assignment_type2print": "Exam",
    "lx_problem_cell_type": "PROBLEM",
    "lx_problem_number": "3",
    "lx_problem_points": "13"
   },
   "outputs": [],
   "source": [
    "# PART 2\n",
    "#------------------------REDUCIBLE -------------------------------\n",
    "# Answer each one with a True or False\n",
    "\n",
    "problem3_A_irreducible = True\n",
    "problem3_B_irreducible = True\n",
    "problem3_C_irreducible = False\n",
    "problem3_D_irreducible = True\n"
   ]
  },
  {
   "cell_type": "code",
   "execution_count": 67,
   "metadata": {
    "deletable": false,
    "lx_assignment_number": "vB",
    "lx_assignment_type": "EXAM",
    "lx_assignment_type2print": "Exam",
    "lx_problem_cell_type": "PROBLEM",
    "lx_problem_number": "3",
    "lx_problem_points": "13"
   },
   "outputs": [],
   "source": [
    "# PART 3\n",
    "#------------------------APERIODIC-------------------------------\n",
    "# Answer each one with a True or False\n",
    "#Suppose that you can go from state i to state i in l steps,\n",
    "#i.e., p(l)ii>0. Also suppose that p(m)ii>0. If gcd(l,m)=1, then state i is aperiodic.\n",
    "#if d\n",
    "\n",
    "problem3_A_is_aperiodic = True\n",
    "problem3_B_is_aperiodic = False\n",
    "problem3_C_is_aperiodic = True\n",
    "problem3_D_is_aperiodic = True\n",
    "\n",
    "# Answer the following with the period of the states as a numpy array\n",
    "# of shape (n_states,)\n",
    "\n",
    "problem3_A_periods = np.array([1,1,2,1])\n",
    "problem3_B_periods = np.array([2,2,2,2])\n",
    "problem3_C_periods = np.array([1,1,2,1,1])\n",
    "problem3_D_periods = np.array([1,1,2,1])\n",
    "\n"
   ]
  },
  {
   "cell_type": "code",
   "execution_count": 68,
   "metadata": {
    "deletable": false,
    "lx_assignment_number": "vB",
    "lx_assignment_type": "EXAM",
    "lx_assignment_type2print": "Exam",
    "lx_problem_cell_type": "PROBLEM",
    "lx_problem_number": "3",
    "lx_problem_points": "13"
   },
   "outputs": [
    {
     "ename": "NameError",
     "evalue": "name 'problem3_A' is not defined",
     "output_type": "error",
     "traceback": [
      "\u001b[0;31m---------------------------------------------------------------------------\u001b[0m",
      "\u001b[0;31mNameError\u001b[0m                                 Traceback (most recent call last)",
      "Cell \u001b[0;32mIn[68], line 4\u001b[0m\n\u001b[1;32m      1\u001b[0m \u001b[38;5;66;03m# PART 4\u001b[39;00m\n\u001b[1;32m      2\u001b[0m \u001b[38;5;66;03m#------------------------STATIONARY DISTRIBUTION-----------------\u001b[39;00m\n\u001b[1;32m      3\u001b[0m \u001b[38;5;66;03m# Answer each one with a True or False\u001b[39;00m\n\u001b[0;32m----> 4\u001b[0m evalsA,evecsA \u001b[38;5;241m=\u001b[39m np\u001b[38;5;241m.\u001b[39mlinalg\u001b[38;5;241m.\u001b[39meig(\u001b[43mproblem3_A\u001b[49m\u001b[38;5;241m.\u001b[39mT)\n\u001b[1;32m      5\u001b[0m evalsB,evecsB \u001b[38;5;241m=\u001b[39m np\u001b[38;5;241m.\u001b[39mlinalg\u001b[38;5;241m.\u001b[39meig(problem3_B\u001b[38;5;241m.\u001b[39mT)\n\u001b[1;32m      6\u001b[0m evalsC,evecsC \u001b[38;5;241m=\u001b[39m np\u001b[38;5;241m.\u001b[39mlinalg\u001b[38;5;241m.\u001b[39meig(problem3_C\u001b[38;5;241m.\u001b[39mT)\n",
      "\u001b[0;31mNameError\u001b[0m: name 'problem3_A' is not defined"
     ]
    }
   ],
   "source": [
    "# PART 4\n",
    "#------------------------STATIONARY DISTRIBUTION-----------------\n",
    "# Answer each one with a True or False\n",
    "evalsA,evecsA = np.linalg.eig(problem3_A.T)\n",
    "evalsB,evecsB = np.linalg.eig(problem3_B.T)\n",
    "evalsC,evecsC = np.linalg.eig(problem3_C.T)\n",
    "evalsD,evecsD = np.linalg.eig(problem3_D.T)\n",
    "print(evalsA)\n",
    "print(evalsB)\n",
    "print(evalsC)\n",
    "print(evalsD)\n",
    "first_evecA = evecsA[:,2]\n",
    "problem1_stationaryA = np.array(first_evecA) / np.sum(first_evecA)\n",
    "\n",
    "first_evecB = evecsB[:,3]\n",
    "problem1_stationaryB = np.array(first_evecB) / np.sum(first_evecB)\n",
    "\n",
    "first_evecC = evecsC[:,1]\n",
    "problem1_stationaryC = np.array(first_evecC) / np.sum(first_evecC)\n",
    "\n",
    "first_evecD = evecsD[:,2]\n",
    "problem1_stationaryD = np.array(first_evecD) / np.sum(first_evecD)\n",
    "\n",
    "\n",
    "\n",
    "\n",
    "problem3_A_has_stationary = True\n",
    "problem3_B_has_stationary = True\n",
    "problem3_C_has_stationary = True\n",
    "problem3_D_has_stationary = True\n",
    "\n",
    " #Answer the following with the stationary distribution as a numpy array of shape (n_states,)\n",
    " #if the Markov chain has a stationary distribution otherwise answer with False\n",
    "\n",
    "problem3_A_stationary_dist = problem1_stationaryA\n",
    "problem3_B_stationary_dist = problem1_stationaryB\n",
    "problem3_C_stationary_dist = problem1_stationaryC\n",
    "problem3_D_stationary_dist = problem1_stationaryD\n",
    "\n"
   ]
  },
  {
   "cell_type": "code",
   "execution_count": null,
   "metadata": {
    "deletable": false,
    "lx_assignment_number": "vB",
    "lx_assignment_type": "EXAM",
    "lx_assignment_type2print": "Exam",
    "lx_problem_cell_type": "PROBLEM",
    "lx_problem_number": "3",
    "lx_problem_points": "13"
   },
   "outputs": [],
   "source": [
    "# PART 5\n",
    "#------------------------REVERSIBLE-----------------\n",
    "# Answer each one with a True or False\n",
    "\n",
    "problem3_A_is_reversible = True\n",
    "problem3_B_is_reversible = False\n",
    "problem3_C_is_reversible = False\n",
    "problem3_D_is_reversible = True"
   ]
  }
 ],
 "metadata": {
  "kernelspec": {
   "display_name": "Python 3 (ipykernel)",
   "language": "python",
   "name": "python3"
  },
  "language_info": {
   "codemirror_mode": {
    "name": "ipython",
    "version": 3
   },
   "file_extension": ".py",
   "mimetype": "text/x-python",
   "name": "python",
   "nbconvert_exporter": "python",
   "pygments_lexer": "ipython3",
   "version": "3.11.6"
  },
  "lx_assignment_number": "vB",
  "lx_course_instance": "2023",
  "lx_course_name": "Introduction to Data Science",
  "lx_course_number": "1MS041"
 },
 "nbformat": 4,
 "nbformat_minor": 4
}
