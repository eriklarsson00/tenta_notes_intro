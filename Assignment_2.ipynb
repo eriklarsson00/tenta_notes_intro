{
 "cells": [
  {
   "cell_type": "markdown",
   "metadata": {
    "deletable": false
   },
   "source": [
    "# Assignment 2 for Course 1MS041\n",
    "Make         sure you pass the `# ... Test` cells and\n",
    " submit your solution notebook in the corresponding assignment on the course website. You can submit multiple times before the deadline         and your highest score will be used."
   ]
  },
  {
   "cell_type": "markdown",
   "metadata": {
    "deletable": false,
    "lx_assignment_number": "2",
    "lx_assignment_type": "ASSIGNMENT",
    "lx_assignment_type2print": "Assignment",
    "lx_problem_cell_type": "PROBLEM",
    "lx_problem_number": "1",
    "lx_problem_points": "8"
   },
   "source": [
    "---\n",
    "## Assignment 2, PROBLEM 1\n",
    "Maximum Points = 8"
   ]
  },
  {
   "cell_type": "markdown",
   "metadata": {
    "deletable": false,
    "lx_assignment_number": "2",
    "lx_assignment_type": "ASSIGNMENT",
    "lx_assignment_type2print": "Assignment",
    "lx_problem_cell_type": "PROBLEM",
    "lx_problem_number": "1",
    "lx_problem_points": "8"
   },
   "source": [
    "\n",
    "A courier company operates a fleet of delivery trucks that make deliveries to different parts of the city. The trucks are equipped with GPS tracking devices that record the location of each truck at regular intervals. The locations are divided into three regions: downtown, the suburbs, and the countryside. The following table shows the probabilities of a truck transitioning between these regions at each time step:\n",
    "\n",
    "| Current region | Probability of transitioning to downtown | Probability of transitioning to the suburbs | Probability of transitioning to the countryside |\n",
    "|----------------|--------------------------------------------|-----------------------------------------------|------------------------------------------------|\n",
    "| Downtown       | 0.3                                      | 0.4                                           | 0.3                                            |\n",
    "| Suburbs        | 0.2                                      | 0.5                                           | 0.3                                            |\n",
    "| Countryside    | 0.4                                      | 0.3                                           | 0.3                                            |\n",
    "\n",
    "1. If a truck is currently in the suburbs, what is the probability that it will be in the downtown region after two time steps? [1.5p]\n",
    "2. If a truck is currently in the suburbs, what is the probability that it will be in the downtown region **the first time** after two time steps? [1.5p]\n",
    "3. Is this Markov chain irreducible? [1.5p]\n",
    "4. What is the stationary distribution? [1.5p]\n",
    "5. Advanced question: What is the expected number of steps until the first time one enters the downtown region having started in the suburbs region. Hint: to get within 1 decimal point, it is enough to compute the probabilities for hitting times below 30. [2p]\n",
    "\n"
   ]
  },
  {
   "cell_type": "code",
   "execution_count": 1,
   "metadata": {
    "deletable": false,
    "lx_assignment_number": "2",
    "lx_assignment_type": "ASSIGNMENT",
    "lx_assignment_type2print": "Assignment",
    "lx_problem_cell_type": "PROBLEM",
    "lx_problem_number": "1",
    "lx_problem_points": "14"
   },
   "outputs": [
    {
     "name": "stdout",
     "output_type": "stream",
     "text": [
      "[[0.2 0.5 0.3]]\n",
      "0.28\n"
     ]
    }
   ],
   "source": [
    "import numpy as np\n",
    "# Part 1\n",
    "matrix = np.matrix([[0.3, 0.4, 0.3], [0.2, 0.5, 0.3], [0.4, 0.3, 0.3]])\n",
    "print(matrix[1])\n",
    "downtown = np.array([0,1,0]) * (matrix**2)\n",
    "# Fill in the answer to part 1 below as a decimal number\n",
    "problem1_p1 = 0.28\n",
    "print(problem1_p1)"
   ]
  },
  {
   "cell_type": "code",
   "execution_count": 276,
   "metadata": {
    "deletable": false,
    "lx_assignment_number": "2",
    "lx_assignment_type": "ASSIGNMENT",
    "lx_assignment_type2print": "Assignment",
    "lx_problem_cell_type": "PROBLEM",
    "lx_problem_number": "1",
    "lx_problem_points": "14"
   },
   "outputs": [
    {
     "name": "stdout",
     "output_type": "stream",
     "text": [
      "0.22000000000000003\n"
     ]
    }
   ],
   "source": [
    "# Part 2\n",
    "initial = np.array([0,1,0])\n",
    "x = 0.28- (0.2*0.3)\n",
    "print(x)\n",
    "# Fill in the answer to part 2 below as a decimal number\n",
    "problem1_p2 = 0.22"
   ]
  },
  {
   "cell_type": "code",
   "execution_count": 277,
   "metadata": {
    "deletable": false,
    "lx_assignment_number": "2",
    "lx_assignment_type": "ASSIGNMENT",
    "lx_assignment_type2print": "Assignment",
    "lx_problem_cell_type": "PROBLEM",
    "lx_problem_number": "1",
    "lx_problem_points": "14"
   },
   "outputs": [],
   "source": [
    "# Part 3\n",
    "\n",
    "# Fill in the answer to part 3 below as a boolean\n",
    "problem1_irreducible = True"
   ]
  },
  {
   "cell_type": "code",
   "execution_count": 278,
   "metadata": {
    "deletable": false,
    "lx_assignment_number": "2",
    "lx_assignment_type": "ASSIGNMENT",
    "lx_assignment_type2print": "Assignment",
    "lx_problem_cell_type": "PROBLEM",
    "lx_problem_number": "1",
    "lx_problem_points": "14"
   },
   "outputs": [
    {
     "name": "stdout",
     "output_type": "stream",
     "text": [
      "[0.28888889 0.41111111 0.3       ]\n"
     ]
    }
   ],
   "source": [
    "# Part 4\n",
    "from scipy.linalg import eig\n",
    "\n",
    "\n",
    "matrix = np.matrix([[0.3, 0.4, 0.3], [0.2, 0.5, 0.3], [0.4, 0.3, 0.3]])\n",
    "matrix_T = matrix.T # Transpose since ite right side eigenvalues\n",
    "eigenvalues, eigenvectors = eig(matrix_T)\n",
    "eigenvector = eigenvectors[:, np.isclose(eigenvalues, 1)].real\n",
    "stationary_distribution = eigenvector / eigenvector.sum()\n",
    "# Fill in the answer to part 4 below\n",
    "# the answer should be a numpy array of length 3\n",
    "# make sure that the entries sums to 1!\n",
    "problem1_stationary = stationary_distribution.flatten()\n",
    "print(problem1_stationary)"
   ]
  },
  {
   "cell_type": "code",
   "execution_count": 279,
   "metadata": {
    "deletable": false,
    "lx_assignment_number": "2",
    "lx_assignment_type": "ASSIGNMENT",
    "lx_assignment_type2print": "Assignment",
    "lx_problem_cell_type": "PROBLEM",
    "lx_problem_number": "1",
    "lx_problem_points": "14"
   },
   "outputs": [
    {
     "name": "stdout",
     "output_type": "stream",
     "text": [
      "[3, 3, 7, 7, 1, 6, 6, 9, 1, 2, 8, 20, 4, 2, 2, 1, 16, 2, 4, 2, 2, 3, 3, 1, 6, 8, 6, 11, 2, 6, 1, 2, 1, 8, 2, 1, 8, 3, 4, 5, 2, 1, 3, 3, 3, 4, 4, 6, 1, 1, 4, 5, 3, 16, 1, 2, 8, 1, 4, 5, 2, 1, 1, 1, 6, 3, 4, 2, 2, 2, 1, 3, 3, 5, 3, 5, 3, 1, 3, 3, 3, 3, 1, 2, 2, 10, 1, 2, 6, 2, 1, 3, 3, 1, 3, 12, 1, 12, 3, 4, 6, 1, 4, 7, 2, 1, 4, 1, 1, 10, 1, 4, 1, 2, 1, 13, 1, 7, 7, 3, 3, 6, 2, 2, 3, 2, 10, 6, 11, 5, 4, 2, 1, 2, 2, 2, 8, 9, 5, 3, 5, 3, 3, 6, 2, 5, 1, 2, 10, 2, 4, 1, 1, 1, 2, 3, 6, 5, 4, 3, 3, 2, 4, 1, 3, 3, 2, 1, 3, 4, 6, 4, 2, 2, 2, 4, 8, 4, 5, 2, 1, 1, 2, 3, 9, 6, 6, 2, 2, 3, 4, 3, 5, 2, 3, 2, 4, 5, 10, 3, 4, 2, 13, 3, 17, 3, 7, 5, 5, 6, 1, 6, 8, 10, 1, 1, 6, 2, 1, 5, 15, 2, 3, 6, 9, 2, 6, 4, 9, 1, 3, 2, 2, 4, 3, 1, 3, 1, 5, 7, 3, 2, 3, 6, 8, 2, 2, 2, 12, 2, 6, 3, 2, 1, 4, 3, 2, 3, 1, 5, 1, 1, 5, 2, 2, 4, 2, 8, 2, 5, 3, 7, 1, 7, 5, 2, 2, 7, 12, 1, 10, 5, 5, 2, 2, 1, 1, 1, 4, 6, 3, 3, 1, 5, 2, 2, 3, 3, 2, 6, 3, 12, 1, 2, 1, 7, 3, 3, 1, 4, 14, 1, 1, 2, 8, 1, 4, 9, 1, 2, 1, 4, 4, 2, 4, 2, 4, 1, 6, 1, 5, 7, 6, 2, 9, 6, 2, 11, 5, 4, 2, 8, 1, 3, 1, 4, 14, 2, 2, 4, 6, 8, 2, 9, 4, 4, 3, 3, 3, 2, 1, 5, 16, 5, 2, 2, 5, 7, 3, 6, 1, 2, 2, 3, 3, 4, 2, 2, 5, 5, 1, 2, 6, 3, 4, 1, 3, 1, 3, 4, 7, 4, 1, 1, 1, 12, 3, 12, 1, 2, 12, 3, 4, 10, 1, 2, 5, 7, 2, 1, 3, 1, 6, 2, 5, 7, 1, 3, 2, 6, 6, 3, 11, 7, 9, 10, 1, 1, 1, 1, 6, 3, 3, 4, 2, 3, 2, 2, 4, 3, 1, 2, 1, 2, 1, 3, 3, 1, 7, 21, 3, 2, 2, 1, 2, 1, 2, 5, 2, 3, 1, 8, 2, 3, 4, 2, 2, 11, 2, 1, 4, 8, 1, 3, 7, 4, 5, 6, 5, 3, 3, 7, 4, 5, 2, 2, 3, 3, 1, 3, 1, 1, 9, 2, 2, 7, 2, 2, 2, 2, 1, 3, 5, 1, 2, 2, 4, 2, 3, 1, 2, 4, 7, 3, 3, 2, 1, 2, 3, 6, 5, 4, 5, 4, 2, 3, 2, 4, 5, 6, 1, 4, 2, 2, 6, 12, 3, 2, 4, 3, 15, 2, 6, 4, 5, 5, 4, 2, 7, 1, 1, 2, 8, 1, 4, 2, 2, 7, 2, 2, 1, 15, 3, 4, 11, 3, 1, 2, 1, 4, 1, 1, 3, 6, 2, 2, 3, 3, 2, 6, 1, 3, 1, 2, 1, 2, 11, 1, 4, 13, 6, 11, 5, 2, 1, 2, 3, 3, 2, 1, 5, 1, 10, 6, 4, 10, 5, 4, 2, 3, 1, 2, 3, 3, 1, 9, 3, 4, 8, 1, 2, 7, 1, 2, 1, 2, 5, 1, 5, 1, 1, 3, 2, 3, 1, 8, 7, 10, 4, 6, 2, 3, 6, 3, 4, 4, 1, 1, 2, 3, 1, 4, 2, 1, 2, 1, 1, 4, 4, 23, 2, 2, 9, 2, 4, 1, 7, 1, 9, 3, 2, 6, 2, 4, 1, 11, 1, 5, 5, 1, 7, 7, 4, 7, 12, 1, 2, 2, 1, 3, 1, 3, 9, 5, 1, 2, 5, 6, 2, 1, 3, 4, 1, 2, 5, 4, 7, 3, 3, 6, 2, 2, 3, 2, 9, 2, 1, 2, 6, 7, 8, 3, 7, 7, 4, 6, 2, 7, 2, 2, 2, 4, 2, 1, 6, 10, 5, 4, 5, 8, 4, 5, 4, 5, 5, 1, 4, 7, 1, 13, 5, 5, 4, 10, 5, 3, 2, 2, 1, 10, 7, 3, 7, 3, 1, 2, 6, 1, 2, 5, 2, 2, 7, 6, 14, 7, 3, 1, 7, 3, 1, 1, 6, 3, 7, 2, 3, 8, 6, 3, 5, 11, 3, 5, 1, 7, 7, 4, 1, 3, 8, 8, 9, 1, 6, 2, 4, 6, 8, 2, 2, 2, 3, 2, 5, 2, 4, 1, 3, 4, 2, 2, 12, 3, 3, 2, 2, 5, 6, 2, 5, 3, 1, 3, 2, 3, 8, 1, 4, 3, 2, 2, 2, 3, 1, 3, 7, 6, 3, 4, 6, 9, 3, 3, 4, 3, 6, 9, 16, 2, 4, 1, 3, 2, 2, 4, 9, 5, 1, 4, 2, 2, 10, 8, 5, 1, 5, 2, 1, 3, 6, 4, 9, 2, 5, 2, 10, 1, 2, 5, 2, 1, 2, 3, 2, 4, 6, 4, 3, 1, 4, 2, 2, 2, 1, 2, 3, 6, 1, 9, 1, 3, 1, 2, 6, 3, 1, 5, 2, 1, 1, 2, 9, 3, 2, 2, 3, 14, 2, 2, 2, 1, 3, 2, 6, 5, 2, 2, 2, 5, 2, 5, 3, 12, 8, 16, 4, 1, 6, 10, 3, 6, 4, 5, 4, 11, 3, 3, 4, 7, 1, 5, 2, 7, 7, 6, 11, 2, 2, 5, 3, 2, 2, 3, 1, 1, 1, 6, 7, 10, 1, 5, 2, 1, 1, 4, 3, 2, 1, 7, 3, 9, 7, 4, 5, 6, 1, 8, 1, 6]\n",
      "3.958\n"
     ]
    }
   ],
   "source": [
    "# Part 5\n",
    "\n",
    "# Fill in the answer to part 5 below\n",
    "# That is, the expected number of steps as a decimal number\n",
    "# Python\n",
    "\n",
    "import numpy as np\n",
    "from scipy.linalg import solve\n",
    "\n",
    "# Transition matrix\n",
    "P = np.array([[0.3, 0.4, 0.3],\n",
    "              [0.2, 0.5, 0.3],\n",
    "              [0.4, 0.3, 0.3]])\n",
    "\n",
    "n = 1000 \n",
    "start = 1\n",
    "g = 0 \n",
    "steps = []\n",
    "\n",
    "for i in range(n):\n",
    "    current = P[start]\n",
    "    counter = 0\n",
    "\n",
    "    while True:\n",
    "        counter += 1\n",
    "        next_state = np.random.choice([0, 1, 2], p=current)\n",
    "        if next_state == g:\n",
    "            steps.append(counter)\n",
    "            break\n",
    "        current = P[next_state]\n",
    "print(steps)\n",
    "average_steps= sum(steps)/len(steps)\n",
    "print(average_steps)\n",
    "\n",
    "problem1_ET = 3.8"
   ]
  },
  {
   "cell_type": "markdown",
   "metadata": {
    "deletable": false,
    "lx_assignment_number": "2",
    "lx_assignment_type": "ASSIGNMENT",
    "lx_assignment_type2print": "Assignment",
    "lx_problem_cell_type": "PROBLEM",
    "lx_problem_number": "2",
    "lx_problem_points": "8"
   },
   "source": [
    "---\n",
    "## Assignment 2, PROBLEM 2\n",
    "Maximum Points = 8"
   ]
  },
  {
   "cell_type": "markdown",
   "metadata": {
    "deletable": false,
    "lx_assignment_number": "2",
    "lx_assignment_type": "ASSIGNMENT",
    "lx_assignment_type2print": "Assignment",
    "lx_problem_cell_type": "PROBLEM",
    "lx_problem_number": "2",
    "lx_problem_points": "8"
   },
   "source": [
    "\n",
    "A healthcare organization is interested in understanding the relationship between the number of visits to the doctors office and certain patient characteristics. \n",
    "They have collected data on the number of visits (for a year) for a sample of patients and have included the following variables\n",
    "\n",
    "* ofp : number of physician office visits\n",
    "* ofnp : number of nonphysician office visits\n",
    "* opp : number of physician outpatient visits\n",
    "* opnp : number of nonphysician outpatient visits\n",
    "* emr : number of emergency room visits\n",
    "* hosp : number of hospitalizations\n",
    "* exclhlth : the person is of excellent health (self-perceived)\n",
    "* poorhealth : the person is of poor health (self-perceived)\n",
    "* numchron : number of chronic conditions\n",
    "* adldiff : the person has a condition that limits activities of daily living ?\n",
    "* noreast : the person is from the north east region\n",
    "* midwest : the person is from the midwest region\n",
    "* west : the person is from the west region\n",
    "* age : age in years (divided by 10)\n",
    "* male : is the person male ?\n",
    "* married : is the person married ?\n",
    "* school : number of years of education\n",
    "* faminc : family income in 10000$\n",
    "* employed : is the person employed ?\n",
    "* privins : is the person covered by private health insurance?\n",
    "* medicaid : is the person covered by medicaid ?\n",
    "\n",
    "Decide which patient features are resonable to use to predict the target \"number of physician office visits\". Hint: should we really use the \"ofnp\" etc variables?\n",
    "\n",
    "Since the target variable is counts, a reasonable loss function is to consider the target variable as Poisson distributed where the parameter follows $\\lambda = \\exp(\\alpha \\cdot x + \\beta)$ where $\\alpha$ is a vector (slope) and $\\beta$ is a number (intercept). That is, the parameter is the exponential of a linear function. The reason we chose this as our parameter, is that it is always positive which is when the Poisson distribution is defined. To be specific we make the following assumption about our conditional density of $Y \\mid X$,\n",
    "$$\n",
    "    f_{Y \\mid X} (y,x) = \\frac{\\lambda^{y} e^{-\\lambda}}{y !}, \\quad \\lambda(x) = \\exp(\\alpha \\cdot x + \\beta).\n",
    "$$\n",
    "\n",
    "Recall from the lecture notes, (4.2) that in this case we should consider the log-loss (entropy) and that according to (4.2.1 Maximum Likelihood and regression) we can consider the conditional log-likelihood. Follow the steps of Example 1 and Example 2 in section (4.2) to derive the loss that needs to be minimized.\n",
    "\n",
    "Hint: when taking the log of the conditional density you will find that the term that contains the $y!$ does not depend on $\\lambda$ and as such does not depend on $\\alpha,\\beta$, it can thus be discarded. This will be essential due to numerical issues with factorials.\n",
    "\n",
    "Instructions:\n",
    "\n",
    "1. Load the file `data/visits_clean.csv`, follow the instructions in the code cell of how this should happen [1.5p]\n",
    "2. Create the `problem2_X` and the `problem2_y` as numpy arrays with `problem2_X` being the features and `problem2_y` being the target. Do the standard train-test split with 80% training data and 20% testing data. Store these in the variables defined in the cells. [1.5p]\n",
    "3. Implement $loss$ inside the class `PoissonRegression` by writing down the loss to be minimized, I have provided a formula for the $\\lambda$ that you can use. [1.5p]\n",
    "4. Now use the `PoissonRegression` class to train a Poisson regression model on the training data. [1.5p]\n",
    "5. Compute the mean absolute error of your prediction on the test set and use Hoeffdings inequality to produce a 95\\% confidence interval for the mean absolute error. We can make the assumption that the error is bounded by 70 for simplicity. [2p]\n"
   ]
  },
  {
   "cell_type": "code",
   "execution_count": 280,
   "metadata": {
    "deletable": false,
    "lx_assignment_number": "2",
    "lx_assignment_type": "ASSIGNMENT",
    "lx_assignment_type2print": "Assignment",
    "lx_problem_cell_type": "PROBLEM",
    "lx_problem_number": "2",
    "lx_problem_points": "8"
   },
   "outputs": [
    {
     "name": "stdout",
     "output_type": "stream",
     "text": [
      "['ofp ofnp opp opnp emr hosp exclhlth poorhlth numchron adldiff noreast midwest west age male married school faminc employed privins medicaid']\n",
      "[[ 5.      0.      0.      0.      0.      1.      0.      0.      2.\n",
      "   0.      0.      0.      0.      6.9     1.      1.      6.      2.881\n",
      "   1.      1.      0.    ]\n",
      " [ 1.      0.      2.      0.      2.      0.      0.      0.      2.\n",
      "   0.      0.      0.      0.      7.4     0.      1.     10.      2.7478\n",
      "   0.      1.      0.    ]\n",
      " [13.      0.      0.      0.      3.      3.      0.      1.      4.\n",
      "   1.      0.      0.      0.      6.6     0.      0.     10.      0.6532\n",
      "   0.      0.      1.    ]\n",
      " [16.      0.      5.      0.      1.      1.      0.      1.      2.\n",
      "   1.      0.      0.      0.      7.6     1.      1.      3.      0.6588\n",
      "   0.      1.      0.    ]\n",
      " [ 3.      0.      0.      0.      0.      0.      0.      0.      2.\n",
      "   1.      0.      0.      0.      7.9     0.      1.      6.      0.6588\n",
      "   0.      1.      0.    ]]\n"
     ]
    }
   ],
   "source": [
    "# Part 1\n",
    "import csv \n",
    "import numpy as np\n",
    "# As in assignment 1 we will load the header into header and data into data\n",
    "# this time you will have to parse the data such that each data entry is a float\n",
    "# and that the problem2_data is a numpy array of shape (n_samples,n_columns)\n",
    "# where n_columns is the number of columns and should have the same length as\n",
    "# the list of strings header. n_samples is how many rows of data we had.\n",
    "# If you cannot find the file, check the starting package as it should be updated\n",
    "# if not, go to the github repo and pull it\n",
    "# The autograder does not accept pandas as a solution to this problem.\n",
    "# data/visits_clean.csv\n",
    "#with open(\"data/visits_clean.csv\", \"r\") as f:\n",
    " #   csv_reader = csv.reader(f, delimiter=\",\") \n",
    " #   rows = [rows for rows in csv_reader]\n",
    "\n",
    "#header = rows[0][0].split(\" \")\n",
    "#data = rows[1::]\n",
    "#data = np.array([row[0].split(\" \") for row in data]).astype(float)\n",
    "#problem2_header = header  #List of strings\n",
    "#problem2_data = np.array(data) #A numpy array of shape n_samples n_columns\n",
    "#print(problem2_header) #List of strings\n",
    "#print(problem2_data) #A numpy array of shape n_samples n_columns\n",
    "with open(\"data/visits_clean.csv\", \"r\") as f:\n",
    "    csv_reader = csv.reader(f) \n",
    "    rows = [rows for rows in csv_reader]\n",
    "\n",
    "problem2_header = rows[0][0].split(\",\") \n",
    "data = [row[0].split( ) for row in rows[1:]]\n",
    "problem2_data = np.array(data, dtype=float)  \n",
    "print(problem2_header) \n",
    "print(problem2_data[0:5,:]) "
   ]
  },
  {
   "cell_type": "code",
   "execution_count": 281,
   "metadata": {
    "deletable": false,
    "lx_assignment_number": "2",
    "lx_assignment_type": "ASSIGNMENT",
    "lx_assignment_type2print": "Assignment",
    "lx_problem_cell_type": "PROBLEM",
    "lx_problem_number": "2",
    "lx_problem_points": "8"
   },
   "outputs": [
    {
     "name": "stdout",
     "output_type": "stream",
     "text": [
      "(4406, 17) (4406,)\n",
      "3525\n",
      "(3525, 17) (881, 17) (3525,) (881,)\n",
      "(3525, 17) (881, 17) (3525,) (881,)\n"
     ]
    }
   ],
   "source": [
    "# Part 2\n",
    "# ofnp \n",
    "# opnp\n",
    "# ofp\n",
    "# Fill in your X and y below\n",
    "new_data = np.copy(problem2_data)\n",
    "problem2_X = np.delete(new_data, [0, 1, 3, 16], axis=1)\n",
    "problem2_y = problem2_data[:,0]\n",
    "\n",
    "print(problem2_X.shape, problem2_y.shape)\n",
    "# Split the data into train and randomly using for instance\n",
    "# np.random.shuffle indices and indexing the first 80% as the train data\n",
    "# keep the train size as 0.8 rounded up to the nearest integer sample\n",
    "# Calculate the index at which to split the data\n",
    "split_index = int(round(0.8 * problem2_X.shape[0]))\n",
    "\n",
    "print(split_index)\n",
    "\n",
    "# Split the features\n",
    "problem2_X_train = problem2_X[:split_index]\n",
    "problem2_X_test = problem2_X[split_index:]\n",
    "\n",
    "# Split the target variable\n",
    "problem2_y_train = problem2_y[:split_index]\n",
    "problem2_y_test = problem2_y[split_index:]\n",
    "\n",
    "print(problem2_X_train.shape, problem2_X_test.shape, problem2_y_train.shape, problem2_y_test.shape)\n",
    "print(problem2_X_train.shape, problem2_X_test.shape, problem2_y_train.shape, problem2_y_test.shape)"
   ]
  },
  {
   "cell_type": "code",
   "execution_count": 282,
   "metadata": {
    "deletable": false,
    "lx_assignment_number": "2",
    "lx_assignment_type": "ASSIGNMENT",
    "lx_assignment_type2print": "Assignment",
    "lx_problem_cell_type": "PROBLEM",
    "lx_problem_number": "2",
    "lx_problem_points": "8"
   },
   "outputs": [],
   "source": [
    "# Part 3\n",
    "\n",
    "# Fill in the function loss below\n",
    "\n",
    "class PoissonRegression(object):\n",
    "    def __init__(self):\n",
    "        self.coeffs = None\n",
    "        self.result = None\n",
    "    \n",
    "    # define the objective/cost/loss function we want to minimise\n",
    "    def loss(self,X,Y,coeffs):\n",
    "        # The parameter lambda for the given X and the proposed values \n",
    "        # of the coefficients, here coeff[:-1] represent alpha \n",
    "        # and coeff[-1] represent beta\n",
    "        lam = np.exp(np.dot(X,coeffs[:-1])+coeffs[-1])\n",
    "\n",
    "        # use the Y variable that is available here to define \n",
    "        # the loss function, return the value of the loss for \n",
    "        # this Y and for this parameter lam defined above\n",
    "        return np.mean(lam - (Y * np.log(lam)) )\n",
    "    def fit(self,X,Y):\n",
    "        import numpy as np\n",
    "        from scipy import optimize\n",
    "\n",
    "        #Use the loss above together with an optimization method from scipy\n",
    "        #to find the coefficients of the model\n",
    "        #this is prepared for you below\n",
    "        opt_loss = lambda coeffs: self.loss(X,Y,coeffs)\n",
    "        initial_arguments = np.zeros(shape=X.shape[1]+1) # initial guess as 0\n",
    "        self.result = optimize.minimize(opt_loss, initial_arguments,method='cg')\n",
    "        self.coeffs = self.result.x\n",
    "    \n",
    "    def predict(self,X):\n",
    "        #Use the trained model to predict Y\n",
    "        if (self.coeffs is not None):\n",
    "            return np.exp(np.dot(X,self.coeffs[:-1])+self.coeffs[-1])"
   ]
  },
  {
   "cell_type": "code",
   "execution_count": 283,
   "metadata": {
    "deletable": false,
    "lx_assignment_number": "2",
    "lx_assignment_type": "ASSIGNMENT",
    "lx_assignment_type2print": "Assignment",
    "lx_problem_cell_type": "PROBLEM",
    "lx_problem_number": "2",
    "lx_problem_points": "8"
   },
   "outputs": [
    {
     "name": "stdout",
     "output_type": "stream",
     "text": [
      "     fun: -4.822349876482391\n",
      "     jac: array([ 1.19209290e-06, -3.87430191e-06, -3.99351120e-06,  1.19209290e-07,\n",
      "       -5.36441803e-07,  2.08616257e-06, -9.53674316e-07,  9.53674316e-07,\n",
      "       -5.36441803e-07,  4.17232513e-07,  6.91413879e-06, -1.25169754e-06,\n",
      "       -4.17232513e-07, -4.47034836e-06,  2.98023224e-07,  1.43051147e-06,\n",
      "        0.00000000e+00, -2.20537186e-06])\n",
      " message: 'Optimization terminated successfully.'\n",
      "    nfev: 20672\n",
      "     nit: 601\n",
      "    njev: 1088\n",
      "  status: 0\n",
      " success: True\n",
      "       x: array([-0.00342975,  0.00843915,  0.16735544, -0.34919346,  0.19810848,\n",
      "        0.14933151,  0.07936722,  0.1046571 , -0.05355372,  0.17034633,\n",
      "       -0.07321593, -0.08812245, -0.04060392,  0.0031499 ,  0.08399533,\n",
      "        0.36516328,  0.23445977,  1.62346423])\n"
     ]
    }
   ],
   "source": [
    "# Part 4\n",
    "\n",
    "# Initialize your PoissonRegression model\n",
    "problem2_model = PoissonRegression()\n",
    "\n",
    "# Fit your initialized model on the training data\n",
    "problem2_model.fit(problem2_X_train, problem2_y_train)\n",
    "\n",
    "# This is to make sure that everything went well, \n",
    "# check that success is True\n",
    "print(problem2_model.result)"
   ]
  },
  {
   "cell_type": "code",
   "execution_count": 284,
   "metadata": {
    "deletable": false,
    "lx_assignment_number": "2",
    "lx_assignment_type": "ASSIGNMENT",
    "lx_assignment_type2print": "Assignment",
    "lx_problem_cell_type": "PROBLEM",
    "lx_problem_number": "2",
    "lx_problem_points": "8"
   },
   "outputs": [
    {
     "name": "stdout",
     "output_type": "stream",
     "text": [
      "4.005388248485396\n",
      "(0.8024960639559509, 7.20828043301484)\n"
     ]
    }
   ],
   "source": [
    "# Part 5\n",
    "import numpy as np\n",
    "# Put the computed mean absolute error in the variable below\n",
    "predict_y = problem2_model.predict(problem2_X_test)\n",
    "problem2_metric = np.mean(np.abs(predict_y - problem2_y_test))\n",
    "# Put a confidence interval in the variable below by using Hoeffdings inequality using the bounds\n",
    "# a = 0, b=70 (roughly 5 days between visits as minimum)\n",
    "# the variable should contain a tuple representing the confidence interval of the form (l_edge,r_edge)\n",
    "\n",
    "n = problem2_X_test.shape[0]\n",
    "a = 0\n",
    "b = 70\n",
    "epsilon = np.sqrt((b - a)**2 * np.log(2/0.05) / (2*n))\n",
    "l_edge = problem2_metric - epsilon\n",
    "r_edge = problem2_metric + epsilon\n",
    "problem2_interval = (l_edge, r_edge)\n",
    "print(problem2_metric)\n",
    "print(problem2_interval)"
   ]
  },
  {
   "cell_type": "markdown",
   "metadata": {
    "deletable": false,
    "lx_assignment_number": "2",
    "lx_assignment_type": "ASSIGNMENT",
    "lx_assignment_type2print": "Assignment",
    "lx_problem_cell_type": "PROBLEM",
    "lx_problem_number": "3",
    "lx_problem_points": "8"
   },
   "source": [
    "---\n",
    "## Assignment 2, PROBLEM 3\n",
    "Maximum Points = 8"
   ]
  },
  {
   "cell_type": "markdown",
   "metadata": {
    "deletable": false,
    "lx_assignment_number": "2",
    "lx_assignment_type": "ASSIGNMENT",
    "lx_assignment_type2print": "Assignment",
    "lx_problem_cell_type": "PROBLEM",
    "lx_problem_number": "3",
    "lx_problem_points": "8"
   },
   "source": [
    "\n",
    "## Random variable generation and transformation\n",
    "\n",
    "The purpose of this problem is to show that you can implement your own sampler, this will be built in the following three steps:\n",
    "\n",
    "1. [2p] Implement a Linear Congruential Generator where you tested out a good combination (a large $M$ with $a,b$ satisfying the Hull-Dobell (Thm 6.8)) of parameters. Follow the instructions in the code block.\n",
    "2. [2p] Using a generator construct random numbers from the uniform $[0,1]$ distribution.\n",
    "3. [4p] Using a uniform $[0,1]$ random generator, generate samples from \n",
    "\n",
    "$$p_0(x) = \\frac{\\pi}{2}|\\sin(2\\pi x)|, \\quad x \\in [0,1] \\enspace .$$\n",
    "\n",
    "Using the **Accept-Reject** sampler (**Algorithm 1** in TFDS notes) with sampling density given by the uniform $[0,1]$ distribution."
   ]
  },
  {
   "cell_type": "code",
   "execution_count": 285,
   "metadata": {
    "deletable": false,
    "lx_assignment_number": "2",
    "lx_assignment_type": "ASSIGNMENT",
    "lx_assignment_type2print": "Assignment",
    "lx_problem_cell_type": "PROBLEM",
    "lx_problem_number": "3",
    "lx_problem_points": "8"
   },
   "outputs": [],
   "source": [
    "\n",
    "def problem3_LCG(size=None, seed = 0):\n",
    "    \"\"\"\n",
    "    A linear congruential generator that generates pseudo random numbers according to size.\n",
    "    \n",
    "    Parameters\n",
    "    -------------\n",
    "    size : an integer denoting how many samples should be produced\n",
    "    seed : the starting point of the LCG, i.e. u0 in the notes.\n",
    "    \n",
    "    Returns\n",
    "    -------------\n",
    "    out : a list of the pseudo random numbers\n",
    "    \"\"\"\n",
    "    a = 1664525\n",
    "    c = 1013904223\n",
    "    m = 2**32  # modulus\n",
    "\n",
    "    # Initialize the seed\n",
    "    u = seed\n",
    "\n",
    "    # Generate the pseudo random numbers\n",
    "    out = [x % m]\n",
    "    for _ in range(2,size+1,1):\n",
    "        u = (a * u + c) % m\n",
    "        out.append(u)  # Normalize to [0, 1]\n",
    "\n",
    "    return out"
   ]
  },
  {
   "cell_type": "code",
   "execution_count": 286,
   "metadata": {
    "deletable": false,
    "lx_assignment_number": "2",
    "lx_assignment_type": "ASSIGNMENT",
    "lx_assignment_type2print": "Assignment",
    "lx_problem_cell_type": "PROBLEM",
    "lx_problem_number": "3",
    "lx_problem_points": "8"
   },
   "outputs": [],
   "source": [
    "\n",
    "def problem3_uniform(generator=None, period = 1, size=None, seed=0):\n",
    "    \"\"\"\n",
    "    Takes a generator and produces samples from the uniform [0,1] distribution according\n",
    "    to size.\n",
    "    \n",
    "    Parameters\n",
    "    -------------\n",
    "    generator : a function of type generator(size,seed) and produces the same result as problem1_LCG, i.e. pseudo random numbers in the range {0,1,...,period-1}\n",
    "    period : the period of the generator\n",
    "    seed : the seed to be used in the generator provided\n",
    "    size : an integer denoting how many samples should be produced\n",
    "    \n",
    "    Returns\n",
    "    --------------\n",
    "    out : a list of the uniform pseudo random numbers\n",
    "    \"\"\"\n",
    "    \n",
    "    random_numbers = generator(size, seed)\n",
    "    \n",
    "    return [x/(period) for x in random_numbers]"
   ]
  },
  {
   "cell_type": "code",
   "execution_count": 287,
   "metadata": {
    "deletable": false,
    "lx_assignment_number": "2",
    "lx_assignment_type": "ASSIGNMENT",
    "lx_assignment_type2print": "Assignment",
    "lx_problem_cell_type": "PROBLEM",
    "lx_problem_number": "3",
    "lx_problem_points": "8"
   },
   "outputs": [],
   "source": [
    "\n",
    "def problem3_accept_reject(uniformGenerator=None, n_iterations=None, seed=0):\n",
    "    \"\"\"\n",
    "    Takes a generator that produces uniform pseudo random [0,1] numbers \n",
    "    and produces samples from (pi/2)*abs(sin(x*2*pi)) using an Accept-Reject\n",
    "    sampler with the uniform distribution as the proposal distribution.\n",
    "    Runs n_iterations\n",
    "    \n",
    "    Parameters\n",
    "    -------------\n",
    "    generator : a function of the type generator(size,seed) that produces uniform pseudo random\n",
    "    numbers from [0,1]\n",
    "    seed : the seed to be used in the generator provided\n",
    "    n_iterations : an integer denoting how many attempts should be made in the accept-reject sampler\n",
    "    \n",
    "    Returns\n",
    "    --------------\n",
    "    out : a list of the pseudo random numbers with the specified distribution\n",
    "    \"\"\"\n",
    "    fx = lambda x: (np.pi/2)*np.abs(np.sin(x*2*np.pi))\n",
    "    m = np.pi/2\n",
    "\n",
    "    accepted = []\n",
    "    s = seed \n",
    "    for _ in range(n_iterations):\n",
    "        u = uniformGenerator(1, s)[0]\n",
    "        s += 1\n",
    "        v = uniformGenerator(1, s)[0]\n",
    "        s += 1\n",
    "        if v <= fx(u)/m:\n",
    "            accepted.append(u)\n",
    "\n",
    "\n",
    "    \n",
    "    return accepted"
   ]
  },
  {
   "cell_type": "markdown",
   "metadata": {
    "deletable": false,
    "lx_assignment_number": "2",
    "lx_assignment_type": "ASSIGNMENT",
    "lx_assignment_type2print": "Assignment",
    "lx_problem_cell_type": "Test",
    "lx_problem_number": "3",
    "lx_problem_points": "8"
   },
   "source": [
    "---\n",
    "#### Local Test for Assignment 2, PROBLEM 3\n",
    "Evaluate cell below to make sure your answer is valid.                             You **should not** modify anything in the cell below when evaluating it to do a local test of                             your solution.\n",
    "You may need to include and evaluate code snippets from lecture notebooks in cells above to make the local test work correctly sometimes (see error messages for clues). This is meant to help you become efficient at recalling materials covered in lectures that relate to this problem. Such local tests will generally not be available in the exam."
   ]
  },
  {
   "cell_type": "code",
   "execution_count": 288,
   "metadata": {
    "deletable": false,
    "lx_assignment_number": "2",
    "lx_assignment_type": "ASSIGNMENT",
    "lx_assignment_type2print": "Assignment",
    "lx_problem_cell_type": "Test",
    "lx_problem_number": "3",
    "lx_problem_points": "8"
   },
   "outputs": [
    {
     "name": "stdout",
     "output_type": "stream",
     "text": [
      "LCG output: [0.22000000000000003, 1015568748, 1586005467, 2165703038, 3027450565, 217083232, 1587069247, 3327581586, 2388811721, 70837908]\n",
      "Uniform sampler [5.1222741603851325e-11, 0.23645552527159452, 0.3692706737201661, 0.5042420323006809, 0.7048832636792213, 0.05054362863302231, 0.3695183543022722, 0.7747629624791443, 0.556188570568338, 0.0164932357147336]\n",
      "Accept-Reject sampler [5.1222741603851325e-11, 5.1222741603851325e-11, 5.1222741603851325e-11, 5.1222741603851325e-11, 5.1222741603851325e-11, 5.1222741603851325e-11, 5.1222741603851325e-11, 5.1222741603851325e-11, 5.1222741603851325e-11, 5.1222741603851325e-11, 5.1222741603851325e-11, 5.1222741603851325e-11, 5.1222741603851325e-11, 5.1222741603851325e-11, 5.1222741603851325e-11, 5.1222741603851325e-11, 5.1222741603851325e-11, 5.1222741603851325e-11, 5.1222741603851325e-11, 5.1222741603851325e-11]\n"
     ]
    }
   ],
   "source": [
    "\n",
    "# If you managed to solve all three parts you can test the following code to see if it runs\n",
    "# you have to change the period to match your LCG though, this is marked as XXX.\n",
    "# It is a very good idea to check these things using the histogram function in sagemath\n",
    "# try with a larger number of samples, up to 10000 should run\n",
    "\n",
    "print(\"LCG output: %s\" % problem3_LCG(size=10, seed = 1))\n",
    "\n",
    "period = 2**32\n",
    "\n",
    "print(\"Uniform sampler %s\" % problem3_uniform(generator=problem3_LCG, period = period, size=10, seed=1))\n",
    "\n",
    "uniform_sampler = lambda size,seed: problem3_uniform(generator=problem3_LCG, period = period, size=size, seed=seed)\n",
    "\n",
    "print(\"Accept-Reject sampler %s\" % problem3_accept_reject(uniformGenerator = uniform_sampler,n_iterations=20,seed=1))"
   ]
  },
  {
   "cell_type": "code",
   "execution_count": 289,
   "metadata": {
    "deletable": false,
    "lx_assignment_number": "2",
    "lx_assignment_type": "ASSIGNMENT",
    "lx_assignment_type2print": "Assignment",
    "lx_problem_cell_type": "Test",
    "lx_problem_number": "3",
    "lx_problem_points": "8"
   },
   "outputs": [
    {
     "name": "stdout",
     "output_type": "stream",
     "text": [
      "Accept-Reject sampler [0.23796462709189137, 0.32383276483316237, 0.2590084917154736, 0.6484972199788831, 0.6820045605879779, 0.20985124453651727]\n"
     ]
    }
   ],
   "source": [
    "\n",
    "# If however you did not manage to implement either part 1 or part 2 but still want to check part 3, you can run the code below\n",
    "\n",
    "def testUniformGenerator(size,seed):\n",
    "    import random\n",
    "    random.seed(seed)\n",
    "    \n",
    "    return [random.uniform(0,1) for s in range(size)]\n",
    "\n",
    "print(\"Accept-Reject sampler %s\" % problem3_accept_reject(uniformGenerator=testUniformGenerator, n_iterations=20, seed=1))"
   ]
  }
 ],
 "metadata": {
  "kernelspec": {
   "display_name": "Python 3",
   "language": "python",
   "name": "python3"
  },
  "language_info": {
   "codemirror_mode": {
    "name": "ipython",
    "version": 3
   },
   "file_extension": ".py",
   "mimetype": "text/x-python",
   "name": "python",
   "nbconvert_exporter": "python",
   "pygments_lexer": "ipython3",
   "version": "3.9.18"
  },
  "lx_assignment_number": 2,
  "lx_course_instance": "2023",
  "lx_course_name": "Introduction to Data Science",
  "lx_course_number": "1MS041"
 },
 "nbformat": 4,
 "nbformat_minor": 4
}
